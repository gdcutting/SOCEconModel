{
 "cells": [
  {
   "cell_type": "markdown",
   "metadata": {},
   "source": [
    "# SOC Economics Model Demo"
   ]
  },
  {
   "cell_type": "code",
   "execution_count": 29,
   "metadata": {
    "collapsed": false
   },
   "outputs": [],
   "source": [
    "# from matplotlib import pyplot as plt\n",
    "import numpy as np\n",
    "import os\n",
    "#from SOCEconModel import *\n",
    "\n",
    "model_file_path = os.getcwd() + '/model.py'\n",
    "exec(open(model_file_path).read())\n",
    "model = SOCEconModel(1000,3,.4,.2,do_rewire=False,fix_demand=True)"
   ]
  },
  {
   "cell_type": "markdown",
   "metadata": {},
   "source": [
    "## Variable setup for storing income and demand\n",
    "\n",
    "Now let's set up some variables to store the income and demand information from the model run that we are interest in analyzing, and runs the model. This is done outside the model.py file because we want to separate the core model functionality from the analysis of model results. We might run to instantiate multiple models with different parameters, run them all, and track income and demand separately for each one. \n",
    "\n",
    "We set up a list for income data, and one for demand data, and set the number of model steps. Each list entry will be a tally of income (or demand) for one model period or step. The for loop calls the model's step() function num_steps number of times, and after each step appends demand and income data to our lists:"
   ]
  },
  {
   "cell_type": "code",
   "execution_count": 33,
   "metadata": {
    "collapsed": true
   },
   "outputs": [],
   "source": [
    "income, demand, num_steps = [], [], 5001\n",
    "for i in range(num_steps):\n",
    "    #model.period_income = 0\n",
    "    model.step()\n",
    "    \n",
    "    income.append(model.period_income)\n",
    "    demand.append(model.period_demand)\n",
    "        \n",
    "income_long_avg = np.convolve(income, np.ones((int(num_steps/40),))/int(num_steps/40), mode='valid')\n",
    "income_short_avg = np.convolve(income, np.ones((int(num_steps/200),))/int(num_steps/200), mode='valid')\n",
    "demand_coverage = sum(income)/sum(demand)"
   ]
  },
  {
   "cell_type": "markdown",
   "metadata": {},
   "source": [
    "For running the model outside a notebook, use model_run.py (which contains code similar to the above).\n",
    "\n",
    "## Plotting the data\n",
    "\n",
    "Now let's look at some plots of the income and demand data. We create a figure and some lines, add axis labels and set the y-axis limit to 0, and then display the plot. The if statement gives us two sets of lines, one for short runs (< 5000 steps) and one for longer runs - this is because for longer runs, the noise in income will look messy when plotted. Try changing"
   ]
  },
  {
   "cell_type": "code",
   "execution_count": 34,
   "metadata": {
    "collapsed": false
   },
   "outputs": [
    {
     "data": {
      "image/png": "[encoded data removed]",
      "text/plain": [
       "<matplotlib.figure.Figure at 0x10f7a44a8>"
      ]
     },
     "metadata": {},
     "output_type": "display_data"
    }
   ],
   "source": [
    "fig = plt.figure(1,figsize=(6,3))\n",
    "\n",
    "if num_steps <= 5000:\n",
    "    income_line, = plt.plot(income, label='Income')\n",
    "    demand_line, = plt.plot(demand, label='Demand')\n",
    "    income_avg_line, = plt.plot(income_long_avg, label='Income average')\n",
    "    plt.legend([income_line, demand_line,income_avg_line], ['Income', 'Demand', 'Average Income'],loc='best')\n",
    "else:\n",
    "    income_short_line, = plt.plot(income_short_avg, label='Line 2')\n",
    "    demand_line, = plt.plot(demand, label='Line 1')\n",
    "    income_long_line, = plt.plot(income_long_avg, label='Line 1')\n",
    "    plt.legend([income_short_line, demand_line,income_long_line], ['Income (short avg.)', 'Demand', 'Income (long avg.)'],loc='best')\n",
    "    \n",
    "plt.xlabel('Simulation time')\n",
    "plt.ylabel('Units of product')\n",
    "plt.ylim(bottom=0)\n",
    "plt.show()"
   ]
  }
 ],
 "metadata": {
  "kernelspec": {
   "display_name": "Python 3",
   "language": "python",
   "name": "python3"
  },
  "language_info": {
   "codemirror_mode": {
    "name": "ipython",
    "version": 3
   },
   "file_extension": ".py",
   "mimetype": "text/x-python",
   "name": "python",
   "nbconvert_exporter": "python",
   "pygments_lexer": "ipython3",
   "version": "3.6.0"
  }
 },
 "nbformat": 4,
 "nbformat_minor": 2
}
